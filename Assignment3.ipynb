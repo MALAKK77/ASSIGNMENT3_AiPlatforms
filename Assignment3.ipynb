{
 "cells": [
  {
   "cell_type": "code",
   "execution_count": null,
   "id": "84f054e8-5858-495d-bc5c-dcff58e0c1a2",
   "metadata": {
    "scrolled": true
   },
   "outputs": [
    {
     "name": "stderr",
     "output_type": "stream",
     "text": [
      "C:\\Users\\dellz\\AppData\\Local\\Programs\\Python\\Python313\\Lib\\site-packages\\keras\\src\\layers\\reshaping\\flatten.py:37: UserWarning: Do not pass an `input_shape`/`input_dim` argument to a layer. When using Sequential models, prefer using an `Input(shape)` object as the first layer in the model instead.\n",
      "  super().__init__(**kwargs)\n"
     ]
    },
    {
     "name": "stdout",
     "output_type": "stream",
     "text": [
      "Epoch 1/10\n",
      "\u001b[1m750/750\u001b[0m \u001b[32m━━━━━━━━━━━━━━━━━━━━\u001b[0m\u001b[37m\u001b[0m \u001b[1m11s\u001b[0m 11ms/step - accuracy: 0.8186 - loss: 0.5090 - val_accuracy: 0.8549 - val_loss: 0.4014\n",
      "Epoch 2/10\n",
      "\u001b[1m750/750\u001b[0m \u001b[32m━━━━━━━━━━━━━━━━━━━━\u001b[0m\u001b[37m\u001b[0m \u001b[1m9s\u001b[0m 11ms/step - accuracy: 0.8626 - loss: 0.3739 - val_accuracy: 0.8648 - val_loss: 0.3733\n",
      "Epoch 3/10\n",
      "\u001b[1m750/750\u001b[0m \u001b[32m━━━━━━━━━━━━━━━━━━━━\u001b[0m\u001b[37m\u001b[0m \u001b[1m9s\u001b[0m 11ms/step - accuracy: 0.8764 - loss: 0.3326 - val_accuracy: 0.8774 - val_loss: 0.3425\n",
      "Epoch 4/10\n",
      "\u001b[1m750/750\u001b[0m \u001b[32m━━━━━━━━━━━━━━━━━━━━\u001b[0m\u001b[37m\u001b[0m \u001b[1m8s\u001b[0m 9ms/step - accuracy: 0.8862 - loss: 0.3071 - val_accuracy: 0.8819 - val_loss: 0.3309\n",
      "Epoch 5/10\n",
      "\u001b[1m702/750\u001b[0m \u001b[32m━━━━━━━━━━━━━━━━━━\u001b[0m\u001b[37m━━\u001b[0m \u001b[1m0s\u001b[0m 10ms/step - accuracy: 0.8935 - loss: 0.2863"
     ]
    }
   ],
   "source": [
    "# Imports\n",
    "import tensorflow as tf\n",
    "from tensorflow import keras\n",
    "from tensorflow.keras import layers\n",
    "import matplotlib.pyplot as plt\n",
    "import numpy as np\n",
    "from sklearn.metrics import confusion_matrix, ConfusionMatrixDisplay\n",
    "\n",
    "(x_train, y_train), (x_test, y_test) = keras.datasets.fashion_mnist.load_data()\n",
    "x_train = x_train / 255.0\n",
    "x_test = x_test / 255.0\n",
    "class_names = [\n",
    "    \"T-shirt/top\", \"Trouser\", \"Pullover\", \"Dress\", \"Coat\",\n",
    "    \"Sandal\", \"Shirt\", \"Sneaker\", \"Bag\", \"Ankle boot\"\n",
    "]\n",
    "\n",
    "model = keras.Sequential([\n",
    "    layers.Flatten(input_shape=(28,28)),  # Flatten 28x28 images\n",
    "    layers.Dense(256, activation='relu'),\n",
    "    layers.Dense(128, activation='relu'),\n",
    "    layers.Dense(10, activation='softmax')  # 10 classes\n",
    "])\n",
    "\n",
    "model.compile(\n",
    "    optimizer='adam',\n",
    "    loss='sparse_categorical_crossentropy',\n",
    "    metrics=['accuracy']\n",
    ")\n",
    "\n",
    "history = model.fit(\n",
    "    x_train, y_train,\n",
    "    epochs=10,\n",
    "    batch_size=64,\n",
    "    validation_split=0.2\n",
    ")\n",
    "\n",
    "test_loss, test_acc = model.evaluate(x_test, y_test, verbose=2)\n",
    "print(f\"\\nTest Accuracy: {test_acc:.4f}\")\n",
    "\n",
    "# 6. Plot training & validation accuracy\n",
    "plt.plot(history.history['accuracy'], label='Train Accuracy')\n",
    "plt.plot(history.history['val_accuracy'], label='Validation Accuracy')\n",
    "plt.title(\"Training vs Validation Accuracy\")\n",
    "plt.xlabel(\"Epochs\")\n",
    "plt.ylabel(\"Accuracy\")\n",
    "plt.legend()\n",
    "plt.show()\n",
    "y_pred_probs = model.predict(x_test)\n",
    "y_pred = np.argmax(y_pred_probs, axis=1)\n",
    "\n",
    "# 8. Confusion Matrix\n",
    "cm = confusion_matrix(y_test, y_pred)\n",
    "disp = ConfusionMatrixDisplay(cm, display_labels=class_names)\n",
    "disp.plot(xticks_rotation='vertical', cmap='Blues')\n",
    "plt.title(\"Confusion Matrix - Test Set\")\n",
    "plt.show()\n",
    "correct_examples = []\n",
    "incorrect_examples = []\n",
    "\n",
    "for i in range(len(x_test)):\n",
    "    if len(correct_examples) >= 5 and len(incorrect_examples) >= 5:\n",
    "        break\n",
    "    if y_pred[i] == y_test[i] and len(correct_examples) < 5:\n",
    "        correct_examples.append((x_test[i], y_pred[i], y_test[i]))\n",
    "    elif y_pred[i] != y_test[i] and len(incorrect_examples) < 5:\n",
    "        incorrect_examples.append((x_test[i], y_pred[i], y_test[i]))\n",
    "\n",
    "plt.figure(figsize=(10,2))\n",
    "for i, (img, pred, label) in enumerate(correct_examples):\n",
    "    plt.subplot(1,5,i+1)\n",
    "    plt.imshow(img, cmap='gray')\n",
    "    plt.title(f\"Pred: {class_names[pred]}\\nTrue: {class_names[label]}\")\n",
    "    plt.axis('off')\n",
    "plt.suptitle(\"Correct Predictions\")\n",
    "plt.show()\n",
    "plt.figure(figsize=(10,2))\n",
    "for i, (img, pred, label) in enumerate(incorrect_examples):\n",
    "    plt.subplot(1,5,i+1)\n",
    "    plt.imshow(img, cmap='gray')\n",
    "    plt.title(f\"Pred: {class_names[pred]}\\nTrue: {class_names[label]}\")\n",
    "    plt.axis('off')\n",
    "plt.suptitle(\"Incorrect Predictions\")\n",
    "plt.show()\n"
   ]
  },
  {
   "cell_type": "code",
   "execution_count": null,
   "id": "d76c3344-5dd5-43dc-97b3-7ba1aa8a5e01",
   "metadata": {},
   "outputs": [],
   "source": []
  }
 ],
 "metadata": {
  "kernelspec": {
   "display_name": "Python 3 (ipykernel)",
   "language": "python",
   "name": "python3"
  },
  "language_info": {
   "codemirror_mode": {
    "name": "ipython",
    "version": 3
   },
   "file_extension": ".py",
   "mimetype": "text/x-python",
   "name": "python",
   "nbconvert_exporter": "python",
   "pygments_lexer": "ipython3",
   "version": "3.13.2"
  }
 },
 "nbformat": 4,
 "nbformat_minor": 5
}
